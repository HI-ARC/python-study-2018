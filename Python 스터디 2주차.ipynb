{
 "cells": [
  {
   "cell_type": "code",
   "execution_count": 4,
   "metadata": {},
   "outputs": [
    {
     "name": "stdout",
     "output_type": "stream",
     "text": [
      "23\n",
      "Odd\n"
     ]
    }
   ],
   "source": [
    "num = int(input())\n",
    "\n",
    "if num % 2 == 1:     # 블럭이 시작할때 콜론을 붙일것\n",
    "    print(\"Odd\")     # 들여쓰기 신경써줄것\n",
    "else:\n",
    "    print(\"Even\")\n",
    "    "
   ]
  },
  {
   "cell_type": "code",
   "execution_count": 8,
   "metadata": {},
   "outputs": [
    {
     "name": "stdout",
     "output_type": "stream",
     "text": [
      "2020\n",
      "윤년\n"
     ]
    }
   ],
   "source": [
    "year = int(input())\n",
    "\n",
    "if year % 4 == 0:\n",
    "    if year % 100 ==0:\n",
    "        if year % 400 == 0:\n",
    "            print(\"윤년\")\n",
    "        else:\n",
    "            print(\"윤년이 아님\")\n",
    "    else:\n",
    "        print(\"윤년\")\n",
    "else:        \n",
    "    print(\"윤년이 아님\")"
   ]
  },
  {
   "cell_type": "code",
   "execution_count": 10,
   "metadata": {},
   "outputs": [
    {
     "name": "stdout",
     "output_type": "stream",
     "text": [
      "a 를 입력하세요1\n",
      "b 를 입력하세요1\n",
      "c 를 입력하세요1\n",
      "equal\n"
     ]
    }
   ],
   "source": [
    "a = int(input(\"a 를 입력하세요\"))\n",
    "b = int(input(\"b 를 입력하세요\"))\n",
    "c = int(input(\"c 를 입력하세요\"))\n",
    "\n",
    "if a == b:\n",
    "    if b == c:\n",
    "        if c == a:\n",
    "            print(\"equal\")\n",
    "        else:\n",
    "            print(\"not equal\")\n",
    "    else:\n",
    "        print(\"not equal\")\n",
    "else:\n",
    "    print(\"not equal\")"
   ]
  },
  {
   "cell_type": "code",
   "execution_count": 11,
   "metadata": {},
   "outputs": [
    {
     "name": "stdout",
     "output_type": "stream",
     "text": [
      "a 를 입력하세요 : 1\n",
      "b 를 입력하세요 : 2\n",
      "c 를 입력하세요 : 3\n",
      "not equal\n"
     ]
    }
   ],
   "source": [
    "a = int(input(\"a 를 입력하세요 : \"))\n",
    "b = int(input(\"b 를 입력하세요 : \"))\n",
    "c = int(input(\"c 를 입력하세요 : \"))\n",
    "\n",
    "if a == b and b == c and c == a:\n",
    "    print(\"equal\")\n",
    "else:\n",
    "    print(\"not equal\")"
   ]
  },
  {
   "cell_type": "code",
   "execution_count": 14,
   "metadata": {},
   "outputs": [
    {
     "name": "stdout",
     "output_type": "stream",
     "text": [
      "False\n",
      "True\n",
      "False\n",
      "True\n"
     ]
    }
   ],
   "source": [
    "t1 = True\n",
    "t2 = False\n",
    "\n",
    "print(t1 and t2) # and 연산자는 t1 이랑 t2가 둘다 True일 때만 반환\n",
    "print(t1 or t2) # or 연산자는 t1, t2 둘 중 하나라도 True 라면 반환\n",
    "print(not t1)   # not 연산자는 True -> False, False -> True\n",
    "print(not t2)"
   ]
  },
  {
   "cell_type": "code",
   "execution_count": 16,
   "metadata": {},
   "outputs": [
    {
     "name": "stdout",
     "output_type": "stream",
     "text": [
      "a is False\n"
     ]
    }
   ],
   "source": [
    "a = False\n",
    "\n",
    "if a: # Bool 변수를 조건식에 그대로 넣을 수 있다.\n",
    "    print(\"a is True\")\n",
    "else:\n",
    "    print(\"a is False\")"
   ]
  },
  {
   "cell_type": "markdown",
   "metadata": {},
   "source": [
    "* python에서는 비교연산자 모두 지원\n",
    "    * `!=`, `==`, `<=`, `>=`, ..."
   ]
  },
  {
   "cell_type": "code",
   "execution_count": 18,
   "metadata": {},
   "outputs": [
    {
     "name": "stdout",
     "output_type": "stream",
     "text": [
      "a = True, b = True\n"
     ]
    }
   ],
   "source": [
    "# if, elif, else\n",
    "\n",
    "a = True\n",
    "b = True\n",
    "\n",
    "if a == True and b == True:\n",
    "    print(\"a = True, b = True\")\n",
    "elif a == True and b == False:\n",
    "    print(\"a = True, b = False\")\n",
    "elif a == False and b == True:\n",
    "    print(\"a = False, b = True\")\n",
    "else:\n",
    "    print(\"a = False, b = False\")"
   ]
  },
  {
   "cell_type": "code",
   "execution_count": 19,
   "metadata": {},
   "outputs": [
    {
     "name": "stdout",
     "output_type": "stream",
     "text": [
      "N을 입력하세요 : 4\n",
      "*\n",
      "**\n",
      "***\n",
      "****\n"
     ]
    }
   ],
   "source": [
    "# while 을 이용한 출력\n",
    "a = int(input(\"N을 입력하세요 : \"))\n",
    "\n",
    "n = a;\n",
    "while(a > 0):\n",
    "    b = n - a + 1;\n",
    "    print(\"*\" * b) # 문자열에 정수의 곱셈이 가능함\n",
    "    a = a - 1"
   ]
  },
  {
   "cell_type": "code",
   "execution_count": 21,
   "metadata": {},
   "outputs": [
    {
     "name": "stdout",
     "output_type": "stream",
     "text": [
      "N을 입력하세요 : 3\n",
      "*\n",
      "**\n",
      "***\n"
     ]
    }
   ],
   "source": [
    "# for 문을 이용한 출력\n",
    "a = int(input(\"N을 입력하세요 : \"))\n",
    "\n",
    "# range 에서 왼쪽인자는 포함, 오른쪽인자는 포함하지 않는 범위 (open close set)\n",
    "# range(0, n) == [0, 1, 2, 3, ..., n-1]\n",
    "for i in range(0, a):\n",
    "    print('*' * (i + 1))"
   ]
  },
  {
   "cell_type": "code",
   "execution_count": 22,
   "metadata": {},
   "outputs": [
    {
     "name": "stdout",
     "output_type": "stream",
     "text": [
      "*\n",
      "***\n",
      "****\n",
      "**********\n",
      "***********************\n"
     ]
    }
   ],
   "source": [
    "# 배열을 이용한 출력\n",
    "arr = [1, 3, 4, 10, 23]\n",
    "for i in arr:\n",
    "    print(\"*\" * i)"
   ]
  },
  {
   "cell_type": "code",
   "execution_count": 25,
   "metadata": {},
   "outputs": [
    {
     "name": "stdout",
     "output_type": "stream",
     "text": [
      "1\n",
      "23.4\n",
      "asdasdasdsa\n",
      "True\n",
      "(1+3j)\n"
     ]
    }
   ],
   "source": [
    "arr2 = [1, 23.4, \"asdasdasdsa\", True, 1+3j ]\n",
    "\n",
    "for element in arr2:\n",
    "    print(element)"
   ]
  },
  {
   "cell_type": "code",
   "execution_count": 27,
   "metadata": {},
   "outputs": [
    {
     "name": "stdout",
     "output_type": "stream",
     "text": [
      "숫자를 입력하세요 : 3\n",
      "[1, 4, 9]\n"
     ]
    }
   ],
   "source": [
    "num = int(input(\"숫자를 입력하세요 : \"))\n",
    "\n",
    "squares = [ i * i for i in range(1, num+1) ] # list comprehension\n",
    "print(squares)"
   ]
  },
  {
   "cell_type": "code",
   "execution_count": 29,
   "metadata": {},
   "outputs": [
    {
     "name": "stdout",
     "output_type": "stream",
     "text": [
      "숫자를 입력하세요 : 100\n",
      "25164150\n"
     ]
    }
   ],
   "source": [
    "# https://projecteuler.net/problem=6\n",
    "num = int(input(\"숫자를 입력하세요 : \"))\n",
    "\n",
    "sum_of_square = sum([ i * i for i in range(1, num+1) ])\n",
    "square_of_sum = sum(range(1, num+1)) ** 2\n",
    "                     \n",
    "\n",
    "print(square_of_sum - sum_of_square)                 "
   ]
  },
  {
   "cell_type": "markdown",
   "metadata": {},
   "source": [
    "```cpp\n",
    "#include <iostream>\n",
    "using namespace std;\n",
    "\n",
    "int main() {\n",
    "    cout << \" \";\n",
    "}\n",
    "\n",
    "```"
   ]
  },
  {
   "cell_type": "code",
   "execution_count": null,
   "metadata": {},
   "outputs": [],
   "source": []
  }
 ],
 "metadata": {
  "kernelspec": {
   "display_name": "Python 3",
   "language": "python",
   "name": "python3"
  },
  "language_info": {
   "codemirror_mode": {
    "name": "ipython",
    "version": 3
   },
   "file_extension": ".py",
   "mimetype": "text/x-python",
   "name": "python",
   "nbconvert_exporter": "python",
   "pygments_lexer": "ipython3",
   "version": "3.6.3"
  }
 },
 "nbformat": 4,
 "nbformat_minor": 2
}

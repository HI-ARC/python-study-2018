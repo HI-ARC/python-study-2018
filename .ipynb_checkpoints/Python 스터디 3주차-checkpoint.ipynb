{
 "cells": [
  {
   "cell_type": "markdown",
   "metadata": {},
   "source": [
    "# 함수\n",
    "\n",
    "* 입력을 받아서 출력을 내는 블랙박스\n"
   ]
  },
  {
   "cell_type": "code",
   "execution_count": 7,
   "metadata": {},
   "outputs": [
    {
     "name": "stdout",
     "output_type": "stream",
     "text": [
      "5\n",
      "*\n",
      "**\n",
      "***\n",
      "****\n",
      "*****\n"
     ]
    }
   ],
   "source": [
    "def printstar(a):\n",
    "    for i in range(0,a):\n",
    "        print('*' * (i+1))\n",
    "\n",
    "def add(a, b):\n",
    "    return a + b\n",
    "\n",
    "print(add(2, 3))\n",
    "\n",
    "printstar(5)"
   ]
  },
  {
   "cell_type": "markdown",
   "metadata": {},
   "source": [
    "# 함수에 매개변수를 넘기는 방법\n",
    "\n",
    "* 매개변수의 위치에 따라 넘기는 방법\n",
    "    * parameter 의 갯수가 많은 경우에는 부적합\n",
    "* 키워드를 명시하는 방법\n",
    "    * parameter 갯수가 많은 경우 유용할 수 있다."
   ]
  },
  {
   "cell_type": "code",
   "execution_count": 10,
   "metadata": {},
   "outputs": [
    {
     "name": "stdout",
     "output_type": "stream",
     "text": [
      "a = 1\n",
      "b = 2\n",
      "\n",
      "a = 2\n",
      "b = 1\n",
      "\n",
      "a = 1\n",
      "b = 3\n",
      "\n"
     ]
    }
   ],
   "source": [
    "def print_stat(a, b=3):\n",
    "    print(\"a = \" + str(a))\n",
    "    print(\"b = \" + str(b))\n",
    "    print(\"\")\n",
    "    \n",
    "print_stat(1, 2)\n",
    "print_stat(b=1, a=2)\n",
    "\n",
    "print_stat(1)"
   ]
  },
  {
   "cell_type": "markdown",
   "metadata": {},
   "source": [
    "# 재귀함수 작성하기"
   ]
  },
  {
   "cell_type": "code",
   "execution_count": 14,
   "metadata": {},
   "outputs": [
    {
     "data": {
      "text/plain": [
       "362880"
      ]
     },
     "execution_count": 14,
     "metadata": {},
     "output_type": "execute_result"
    }
   ],
   "source": [
    "def factorial(N):\n",
    "    if(N <= 1):\n",
    "        return 1\n",
    "    else:\n",
    "        return N * factorial(N-1)\n",
    "\n",
    "factorial(9)"
   ]
  },
  {
   "cell_type": "code",
   "execution_count": 18,
   "metadata": {},
   "outputs": [
    {
     "name": "stdout",
     "output_type": "stream",
     "text": [
      "11\n"
     ]
    }
   ],
   "source": [
    "# https://www.acmicpc.net/problem/14920\n",
    "def hailstone_len(a, b):\n",
    "    if a == 1:\n",
    "        return b\n",
    "    \n",
    "    if a % 2 == 1:\n",
    "        return hailstone_len( 3*a + 1 , b + 1)\n",
    "    else:\n",
    "        return hailstone_len( a / 2, b + 1)\n",
    "    \n",
    "print(hailstone_len(26, 1))"
   ]
  },
  {
   "cell_type": "markdown",
   "metadata": {},
   "source": [
    "# 내장 함수"
   ]
  },
  {
   "cell_type": "code",
   "execution_count": 19,
   "metadata": {},
   "outputs": [
    {
     "name": "stdout",
     "output_type": "stream",
     "text": [
      "ASDASDDAS\n",
      "asdasdasds\n"
     ]
    }
   ],
   "source": [
    "# print\n",
    "print(\"ASDASDDAS\")\n",
    "print(\"asdasdasds\")"
   ]
  },
  {
   "cell_type": "code",
   "execution_count": 21,
   "metadata": {},
   "outputs": [
    {
     "name": "stdout",
     "output_type": "stream",
     "text": [
      "10\n"
     ]
    }
   ],
   "source": [
    "# len : 배열의 길이\n",
    "a = [1, 2,3,4, 5,6,12,312,321321,123]\n",
    "print(len(a))"
   ]
  },
  {
   "cell_type": "code",
   "execution_count": 22,
   "metadata": {},
   "outputs": [
    {
     "name": "stdout",
     "output_type": "stream",
     "text": [
      "True\n"
     ]
    }
   ],
   "source": [
    "# int : 문자열 -> int\n",
    "\n",
    "print(int(\"123123\") == 123123)"
   ]
  },
  {
   "cell_type": "code",
   "execution_count": 24,
   "metadata": {},
   "outputs": [
    {
     "name": "stdout",
     "output_type": "stream",
     "text": [
      "float : 1.123213123\n"
     ]
    }
   ],
   "source": [
    "# str : 문자열로 변환\n",
    "print(\"float : \" + str(1.123213123)) "
   ]
  },
  {
   "cell_type": "code",
   "execution_count": 25,
   "metadata": {},
   "outputs": [
    {
     "name": "stdout",
     "output_type": "stream",
     "text": [
      "5\n"
     ]
    }
   ],
   "source": [
    "# eval : 문자열을 해석\n",
    "\n",
    "print(eval(\"3 + 2\"))"
   ]
  },
  {
   "cell_type": "code",
   "execution_count": 26,
   "metadata": {},
   "outputs": [
    {
     "ename": "NameError",
     "evalue": "name 'floor' is not defined",
     "output_type": "error",
     "traceback": [
      "\u001b[0;31m---------------------------------------------------------------------------\u001b[0m",
      "\u001b[0;31mNameError\u001b[0m                                 Traceback (most recent call last)",
      "\u001b[0;32m<ipython-input-26-2610c1d61f86>\u001b[0m in \u001b[0;36m<module>\u001b[0;34m()\u001b[0m\n\u001b[1;32m      1\u001b[0m \u001b[0;31m# floor : 소수점 내림\u001b[0m\u001b[0;34m\u001b[0m\u001b[0;34m\u001b[0m\u001b[0m\n\u001b[0;32m----> 2\u001b[0;31m \u001b[0mprint\u001b[0m\u001b[0;34m(\u001b[0m\u001b[0mfloor\u001b[0m\u001b[0;34m(\u001b[0m\u001b[0;36m3.1415926535\u001b[0m\u001b[0;34m)\u001b[0m\u001b[0;34m)\u001b[0m\u001b[0;34m\u001b[0m\u001b[0m\n\u001b[0m",
      "\u001b[0;31mNameError\u001b[0m: name 'floor' is not defined"
     ]
    }
   ],
   "source": [
    "# floor : 소수점 내림\n",
    "print(floor(3.1415926535))"
   ]
  },
  {
   "cell_type": "code",
   "execution_count": null,
   "metadata": {},
   "outputs": [],
   "source": [
    "\n",
    "# ceil\n"
   ]
  },
  {
   "cell_type": "code",
   "execution_count": null,
   "metadata": {},
   "outputs": [],
   "source": [
    "\n",
    "# round/1\n",
    "# round/2"
   ]
  },
  {
   "cell_type": "markdown",
   "metadata": {},
   "source": [
    "# 모듈 불러오기\n",
    "\n",
    "* 비슷한 목적을 가지는 함수 및 클래스들끼리 묶어놓은 집합을 `라이브러리(혹은 모듈)` 이라고 한다.\n",
    "\n",
    "* 파이썬에서는 기본적으로 다양한 표준라이브러리를 지원하기 때문에, 비교적 편리하게 프로그래밍 할 수 있다.\n",
    "\n",
    "https://docs.python.org/3/library/index.html"
   ]
  },
  {
   "cell_type": "code",
   "execution_count": 4,
   "metadata": {},
   "outputs": [],
   "source": [
    "# sys 라이브러리\n",
    "# https://docs.python.org/3/library/sys.html\n",
    "\n",
    "# 파일 참고\n"
   ]
  },
  {
   "cell_type": "code",
   "execution_count": 33,
   "metadata": {},
   "outputs": [
    {
     "name": "stdout",
     "output_type": "stream",
     "text": [
      "3\n",
      "4\n",
      "3\n",
      "3.1416\n"
     ]
    }
   ],
   "source": [
    "# math 라이브러리\n",
    "# https://docs.python.org/3.6/library/math.html\n",
    "\n",
    "import math\n",
    "\n",
    "print(math.floor(3.141592))\n",
    "\n",
    "print(math.ceil(3.141592))\n",
    "\n",
    "print(round(3.141592))\n",
    "print(round(3.141592, 4))"
   ]
  },
  {
   "cell_type": "code",
   "execution_count": 35,
   "metadata": {},
   "outputs": [
    {
     "data": {
      "text/plain": [
       "0"
      ]
     },
     "execution_count": 35,
     "metadata": {},
     "output_type": "execute_result"
    }
   ],
   "source": []
  },
  {
   "cell_type": "code",
   "execution_count": null,
   "metadata": {},
   "outputs": [],
   "source": []
  }
 ],
 "metadata": {
  "kernelspec": {
   "display_name": "Python 3",
   "language": "python",
   "name": "python3"
  },
  "language_info": {
   "codemirror_mode": {
    "name": "ipython",
    "version": 3
   },
   "file_extension": ".py",
   "mimetype": "text/x-python",
   "name": "python",
   "nbconvert_exporter": "python",
   "pygments_lexer": "ipython3",
   "version": "3.6.3"
  }
 },
 "nbformat": 4,
 "nbformat_minor": 2
}
